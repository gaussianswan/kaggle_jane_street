{
 "cells": [
  {
   "cell_type": "markdown",
   "metadata": {},
   "source": [
    "Messing around with polaras rather than pandas. \n",
    "\n",
    "The information that I got here came from this article: https://realpython.com/polars-python/ \n",
    "\n",
    "High level, polars is a very performant library for doing large scale data manipulation. The key features of it are: \n",
    "* You do not need to read all data into memory \n",
    "* The computations are optimized for efficiency on your computer \n",
    "* You can do lazy evaluation which allows you to execute the steps you need only when you need it. You can create plans for how you are going to process your data before you have to process it. \n",
    "* You can integrate this into whatever pandas and numpy workflows you have since the designers of this code wanted them to be compatible. "
   ]
  },
  {
   "cell_type": "code",
   "execution_count": 2,
   "metadata": {},
   "outputs": [],
   "source": [
    "import numpy as np \n",
    "import pandas as pd \n",
    "import polars as pl\n",
    "\n",
    "num_rows = 50000 \n",
    "rng = np.random.default_rng(seed=7)"
   ]
  },
  {
   "cell_type": "code",
   "execution_count": 3,
   "metadata": {},
   "outputs": [],
   "source": [
    "buildings_data = {\n",
    "    'sqft': rng.exponential(scale=1000, size=num_rows), \n",
    "    'year': rng.integers(low=1995, high=2023, size=num_rows), \n",
    "    \"building_type\": rng.choice(['A', 'B', 'C'], size=num_rows)\n",
    "}\n",
    "\n",
    "buildings = pl.DataFrame(buildings_data)"
   ]
  },
  {
   "cell_type": "code",
   "execution_count": 4,
   "metadata": {},
   "outputs": [
    {
     "data": {
      "text/html": [
       "<div><style>\n",
       ".dataframe > thead > tr,\n",
       ".dataframe > tbody > tr {\n",
       "  text-align: right;\n",
       "  white-space: pre-wrap;\n",
       "}\n",
       "</style>\n",
       "<small>shape: (50_000, 3)</small><table border=\"1\" class=\"dataframe\"><thead><tr><th>sqft</th><th>year</th><th>building_type</th></tr><tr><td>f64</td><td>i64</td><td>str</td></tr></thead><tbody><tr><td>707.529256</td><td>2017</td><td>&quot;B&quot;</td></tr><tr><td>1025.203348</td><td>1999</td><td>&quot;C&quot;</td></tr><tr><td>568.548657</td><td>1998</td><td>&quot;B&quot;</td></tr><tr><td>895.109864</td><td>2001</td><td>&quot;C&quot;</td></tr><tr><td>206.532754</td><td>1996</td><td>&quot;B&quot;</td></tr><tr><td>&hellip;</td><td>&hellip;</td><td>&hellip;</td></tr><tr><td>1528.844126</td><td>2011</td><td>&quot;A&quot;</td></tr><tr><td>813.274714</td><td>2020</td><td>&quot;C&quot;</td></tr><tr><td>1145.045726</td><td>1995</td><td>&quot;C&quot;</td></tr><tr><td>475.132386</td><td>2009</td><td>&quot;B&quot;</td></tr><tr><td>121.605306</td><td>2019</td><td>&quot;A&quot;</td></tr></tbody></table></div>"
      ],
      "text/plain": [
       "shape: (50_000, 3)\n",
       "┌─────────────┬──────┬───────────────┐\n",
       "│ sqft        ┆ year ┆ building_type │\n",
       "│ ---         ┆ ---  ┆ ---           │\n",
       "│ f64         ┆ i64  ┆ str           │\n",
       "╞═════════════╪══════╪═══════════════╡\n",
       "│ 707.529256  ┆ 2017 ┆ B             │\n",
       "│ 1025.203348 ┆ 1999 ┆ C             │\n",
       "│ 568.548657  ┆ 1998 ┆ B             │\n",
       "│ 895.109864  ┆ 2001 ┆ C             │\n",
       "│ 206.532754  ┆ 1996 ┆ B             │\n",
       "│ …           ┆ …    ┆ …             │\n",
       "│ 1528.844126 ┆ 2011 ┆ A             │\n",
       "│ 813.274714  ┆ 2020 ┆ C             │\n",
       "│ 1145.045726 ┆ 1995 ┆ C             │\n",
       "│ 475.132386  ┆ 2009 ┆ B             │\n",
       "│ 121.605306  ┆ 2019 ┆ A             │\n",
       "└─────────────┴──────┴───────────────┘"
      ]
     },
     "execution_count": 4,
     "metadata": {},
     "output_type": "execute_result"
    }
   ],
   "source": [
    "buildings"
   ]
  },
  {
   "cell_type": "code",
   "execution_count": 5,
   "metadata": {},
   "outputs": [
    {
     "data": {
      "text/plain": [
       "Schema([('sqft', Float64), ('year', Int64), ('building_type', String)])"
      ]
     },
     "execution_count": 5,
     "metadata": {},
     "output_type": "execute_result"
    }
   ],
   "source": [
    "buildings.schema"
   ]
  },
  {
   "cell_type": "code",
   "execution_count": 6,
   "metadata": {},
   "outputs": [
    {
     "data": {
      "text/html": [
       "<div><style>\n",
       ".dataframe > thead > tr,\n",
       ".dataframe > tbody > tr {\n",
       "  text-align: right;\n",
       "  white-space: pre-wrap;\n",
       "}\n",
       "</style>\n",
       "<small>shape: (5, 3)</small><table border=\"1\" class=\"dataframe\"><thead><tr><th>sqft</th><th>year</th><th>building_type</th></tr><tr><td>f64</td><td>i64</td><td>str</td></tr></thead><tbody><tr><td>707.529256</td><td>2017</td><td>&quot;B&quot;</td></tr><tr><td>1025.203348</td><td>1999</td><td>&quot;C&quot;</td></tr><tr><td>568.548657</td><td>1998</td><td>&quot;B&quot;</td></tr><tr><td>895.109864</td><td>2001</td><td>&quot;C&quot;</td></tr><tr><td>206.532754</td><td>1996</td><td>&quot;B&quot;</td></tr></tbody></table></div>"
      ],
      "text/plain": [
       "shape: (5, 3)\n",
       "┌─────────────┬──────┬───────────────┐\n",
       "│ sqft        ┆ year ┆ building_type │\n",
       "│ ---         ┆ ---  ┆ ---           │\n",
       "│ f64         ┆ i64  ┆ str           │\n",
       "╞═════════════╪══════╪═══════════════╡\n",
       "│ 707.529256  ┆ 2017 ┆ B             │\n",
       "│ 1025.203348 ┆ 1999 ┆ C             │\n",
       "│ 568.548657  ┆ 1998 ┆ B             │\n",
       "│ 895.109864  ┆ 2001 ┆ C             │\n",
       "│ 206.532754  ┆ 1996 ┆ B             │\n",
       "└─────────────┴──────┴───────────────┘"
      ]
     },
     "execution_count": 6,
     "metadata": {},
     "output_type": "execute_result"
    }
   ],
   "source": [
    "buildings.head()"
   ]
  },
  {
   "cell_type": "code",
   "execution_count": 9,
   "metadata": {},
   "outputs": [],
   "source": [
    "description = buildings.describe()"
   ]
  },
  {
   "cell_type": "code",
   "execution_count": 22,
   "metadata": {},
   "outputs": [
    {
     "data": {
      "text/html": [
       "<div><style>\n",
       ".dataframe > thead > tr,\n",
       ".dataframe > tbody > tr {\n",
       "  text-align: right;\n",
       "  white-space: pre-wrap;\n",
       "}\n",
       "</style>\n",
       "<small>shape: (1_788, 3)</small><table border=\"1\" class=\"dataframe\"><thead><tr><th>sqft</th><th>year</th><th>building_type</th></tr><tr><td>f64</td><td>i64</td><td>str</td></tr></thead><tbody><tr><td>144.946517</td><td>2008</td><td>&quot;C&quot;</td></tr><tr><td>884.278757</td><td>2008</td><td>&quot;C&quot;</td></tr><tr><td>351.140355</td><td>2008</td><td>&quot;B&quot;</td></tr><tr><td>243.942508</td><td>2008</td><td>&quot;C&quot;</td></tr><tr><td>173.882447</td><td>2008</td><td>&quot;C&quot;</td></tr><tr><td>&hellip;</td><td>&hellip;</td><td>&hellip;</td></tr><tr><td>254.107102</td><td>2008</td><td>&quot;A&quot;</td></tr><tr><td>134.505253</td><td>2008</td><td>&quot;C&quot;</td></tr><tr><td>138.852877</td><td>2008</td><td>&quot;C&quot;</td></tr><tr><td>190.779238</td><td>2008</td><td>&quot;C&quot;</td></tr><tr><td>3702.089262</td><td>2008</td><td>&quot;A&quot;</td></tr></tbody></table></div>"
      ],
      "text/plain": [
       "shape: (1_788, 3)\n",
       "┌─────────────┬──────┬───────────────┐\n",
       "│ sqft        ┆ year ┆ building_type │\n",
       "│ ---         ┆ ---  ┆ ---           │\n",
       "│ f64         ┆ i64  ┆ str           │\n",
       "╞═════════════╪══════╪═══════════════╡\n",
       "│ 144.946517  ┆ 2008 ┆ C             │\n",
       "│ 884.278757  ┆ 2008 ┆ C             │\n",
       "│ 351.140355  ┆ 2008 ┆ B             │\n",
       "│ 243.942508  ┆ 2008 ┆ C             │\n",
       "│ 173.882447  ┆ 2008 ┆ C             │\n",
       "│ …           ┆ …    ┆ …             │\n",
       "│ 254.107102  ┆ 2008 ┆ A             │\n",
       "│ 134.505253  ┆ 2008 ┆ C             │\n",
       "│ 138.852877  ┆ 2008 ┆ C             │\n",
       "│ 190.779238  ┆ 2008 ┆ C             │\n",
       "│ 3702.089262 ┆ 2008 ┆ A             │\n",
       "└─────────────┴──────┴───────────────┘"
      ]
     },
     "execution_count": 22,
     "metadata": {},
     "output_type": "execute_result"
    }
   ],
   "source": [
    "# You can easily select a dataframe column here like this\n",
    "buildings.select(pl.col(\"sqft\"))\n",
    "\n",
    "# You can also do this \n",
    "buildings.select('sqft')\n",
    "\n",
    "# If you want to filter this is easy as well \n",
    "buildings.filter(pl.col(\"sqft\") > 700)\n",
    "\n",
    "# another filter which might be interesting \n",
    "buildings.filter(pl.col(\"year\") == 2008)"
   ]
  },
  {
   "cell_type": "code",
   "execution_count": 27,
   "metadata": {},
   "outputs": [
    {
     "data": {
      "text/html": [
       "<div><style>\n",
       ".dataframe > thead > tr,\n",
       ".dataframe > tbody > tr {\n",
       "  text-align: right;\n",
       "  white-space: pre-wrap;\n",
       "}\n",
       "</style>\n",
       "<small>shape: (3, 4)</small><table border=\"1\" class=\"dataframe\"><thead><tr><th>building_type</th><th>mean_sqft</th><th>median_year</th><th>len</th></tr><tr><td>str</td><td>f64</td><td>f64</td><td>u32</td></tr></thead><tbody><tr><td>&quot;A&quot;</td><td>1009.429004</td><td>2008.0</td><td>16626</td></tr><tr><td>&quot;B&quot;</td><td>1005.147182</td><td>2009.0</td><td>16654</td></tr><tr><td>&quot;C&quot;</td><td>995.998607</td><td>2009.0</td><td>16720</td></tr></tbody></table></div>"
      ],
      "text/plain": [
       "shape: (3, 4)\n",
       "┌───────────────┬─────────────┬─────────────┬───────┐\n",
       "│ building_type ┆ mean_sqft   ┆ median_year ┆ len   │\n",
       "│ ---           ┆ ---         ┆ ---         ┆ ---   │\n",
       "│ str           ┆ f64         ┆ f64         ┆ u32   │\n",
       "╞═══════════════╪═════════════╪═════════════╪═══════╡\n",
       "│ A             ┆ 1009.429004 ┆ 2008.0      ┆ 16626 │\n",
       "│ B             ┆ 1005.147182 ┆ 2009.0      ┆ 16654 │\n",
       "│ C             ┆ 995.998607  ┆ 2009.0      ┆ 16720 │\n",
       "└───────────────┴─────────────┴─────────────┴───────┘"
      ]
     },
     "execution_count": 27,
     "metadata": {},
     "output_type": "execute_result"
    }
   ],
   "source": [
    "# We can do some grouping as well on this data \n",
    "buildings.group_by(\"building_type\").agg(\n",
    "    [\n",
    "        pl.mean(\"sqft\").alias(\"mean_sqft\"), \n",
    "        pl.median(\"year\").alias(\"median_year\"), \n",
    "        pl.len()\n",
    "    ]\n",
    ")"
   ]
  },
  {
   "cell_type": "markdown",
   "metadata": {},
   "source": [
    "### Working with LazyFrames\n",
    "\n",
    "What is interesting about polars is that you can set up dataframes to do lazy execution. This means that you are only doing the evaluation of the dataframe when you need to. "
   ]
  },
  {
   "cell_type": "code",
   "execution_count": 28,
   "metadata": {},
   "outputs": [
    {
     "data": {
      "text/html": [
       "<h4>NAIVE QUERY PLAN</h4><p>run <b>LazyFrame.show_graph()</b> to see the optimized version</p><?xml version=\"1.0\" encoding=\"UTF-8\" standalone=\"no\"?>\n",
       "<!DOCTYPE svg PUBLIC \"-//W3C//DTD SVG 1.1//EN\"\n",
       " \"http://www.w3.org/Graphics/SVG/1.1/DTD/svg11.dtd\">\n",
       "<!-- Generated by graphviz version 2.43.0 (0)\n",
       " -->\n",
       "<!-- Title: polars_query Pages: 1 -->\n",
       "<svg width=\"76pt\" height=\"61pt\"\n",
       " viewBox=\"0.00 0.00 76.00 61.00\" xmlns=\"http://www.w3.org/2000/svg\" xmlns:xlink=\"http://www.w3.org/1999/xlink\">\n",
       "<g id=\"graph0\" class=\"graph\" transform=\"scale(1 1) rotate(0) translate(4 57)\">\n",
       "<title>polars_query</title>\n",
       "<polygon fill=\"white\" stroke=\"transparent\" points=\"-4,4 -4,-57 72,-57 72,4 -4,4\"/>\n",
       "<!-- p1 -->\n",
       "<g id=\"node1\" class=\"node\">\n",
       "<title>p1</title>\n",
       "<polygon fill=\"none\" stroke=\"black\" points=\"68,-53 0,-53 0,0 68,0 68,-53\"/>\n",
       "<text text-anchor=\"middle\" x=\"34\" y=\"-37.8\" font-family=\"Times,serif\" font-size=\"14.00\">TABLE</text>\n",
       "<text text-anchor=\"middle\" x=\"34\" y=\"-22.8\" font-family=\"Times,serif\" font-size=\"14.00\">π */4;</text>\n",
       "<text text-anchor=\"middle\" x=\"34\" y=\"-7.8\" font-family=\"Times,serif\" font-size=\"14.00\">σ None</text>\n",
       "</g>\n",
       "</g>\n",
       "</svg>\n"
      ],
      "text/plain": [
       "<LazyFrame at 0x7EFFA2297130>"
      ]
     },
     "execution_count": 28,
     "metadata": {},
     "output_type": "execute_result"
    }
   ],
   "source": [
    "new_buildings = {\n",
    "    'sqft': rng.exponential(scale=1000, size=num_rows), \n",
    "    'price': rng.exponential(scale=100_000, size=num_rows), \n",
    "    'year': rng.integers(low=1995, high=2023, size=num_rows), \n",
    "    'building_type': rng.choice(['A', 'B', 'C'], size=num_rows)\n",
    "}\n",
    "\n",
    "lazy_buildings = pl.LazyFrame(new_buildings)\n",
    "lazy_buildings"
   ]
  },
  {
   "cell_type": "code",
   "execution_count": 30,
   "metadata": {},
   "outputs": [],
   "source": [
    "lazy_query = (\n",
    "    lazy_buildings\n",
    "    .with_columns(\n",
    "        (pl.col(\"price\") / pl.col('sqft')).alias(\"price_per_sqft\")\n",
    "    )\n",
    "    .filter(pl.col(\"price_per_sqft\") > 100)\n",
    "    .filter(pl.col(\"year\") < 2010)\n",
    ")"
   ]
  },
  {
   "cell_type": "code",
   "execution_count": 33,
   "metadata": {},
   "outputs": [
    {
     "name": "stdout",
     "output_type": "stream",
     "text": [
      "FILTER [(col(\"price_per_sqft\")) > (100.0)] FROM\n",
      "   WITH_COLUMNS:\n",
      "   [[(col(\"price\")) / (col(\"sqft\"))].alias(\"price_per_sqft\")] \n",
      "    DF [\"sqft\", \"price\", \"year\", \"building_type\"]; PROJECT */4 COLUMNS; SELECTION: [(col(\"year\")) < (2010)]\n"
     ]
    }
   ],
   "source": [
    "print(lazy_query.explain()) "
   ]
  },
  {
   "cell_type": "code",
   "execution_count": 34,
   "metadata": {},
   "outputs": [
    {
     "data": {
      "text/html": [
       "<div><style>\n",
       ".dataframe > thead > tr,\n",
       ".dataframe > tbody > tr {\n",
       "  text-align: right;\n",
       "  white-space: pre-wrap;\n",
       "}\n",
       "</style>\n",
       "<small>shape: (13_411, 2)</small><table border=\"1\" class=\"dataframe\"><thead><tr><th>price_per_sqft</th><th>year</th></tr><tr><td>f64</td><td>i64</td></tr></thead><tbody><tr><td>6116.148294</td><td>1998</td></tr><tr><td>234.476331</td><td>2004</td></tr><tr><td>305.891064</td><td>2001</td></tr><tr><td>1132.274686</td><td>2009</td></tr><tr><td>371.636692</td><td>1995</td></tr><tr><td>&hellip;</td><td>&hellip;</td></tr><tr><td>282.702528</td><td>2000</td></tr><tr><td>276.831319</td><td>1998</td></tr><tr><td>1214.328728</td><td>1996</td></tr><tr><td>130.508129</td><td>2003</td></tr><tr><td>784.265598</td><td>2004</td></tr></tbody></table></div>"
      ],
      "text/plain": [
       "shape: (13_411, 2)\n",
       "┌────────────────┬──────┐\n",
       "│ price_per_sqft ┆ year │\n",
       "│ ---            ┆ ---  │\n",
       "│ f64            ┆ i64  │\n",
       "╞════════════════╪══════╡\n",
       "│ 6116.148294    ┆ 1998 │\n",
       "│ 234.476331     ┆ 2004 │\n",
       "│ 305.891064     ┆ 2001 │\n",
       "│ 1132.274686    ┆ 2009 │\n",
       "│ 371.636692     ┆ 1995 │\n",
       "│ …              ┆ …    │\n",
       "│ 282.702528     ┆ 2000 │\n",
       "│ 276.831319     ┆ 1998 │\n",
       "│ 1214.328728    ┆ 1996 │\n",
       "│ 130.508129     ┆ 2003 │\n",
       "│ 784.265598     ┆ 2004 │\n",
       "└────────────────┴──────┘"
      ]
     },
     "execution_count": 34,
     "metadata": {},
     "output_type": "execute_result"
    }
   ],
   "source": [
    "lazy_query.collect().select(pl.col(['price_per_sqft', 'year']))"
   ]
  },
  {
   "cell_type": "markdown",
   "metadata": {},
   "source": [
    "An example that showcases how powerful the lazy api is. A lot of times, you are going to be processing data that is stored in some database somewhere or something. Bringing all of this into memory is not super efficient. We can specify different lazy queries and what not so that we can do our processing only when we need to. \n",
    "\n",
    "This next example comes from real python where we use some actual data "
   ]
  },
  {
   "cell_type": "code",
   "execution_count": 39,
   "metadata": {},
   "outputs": [],
   "source": [
    "import requests \n",
    "import pathlib as path\n",
    "\n",
    "def download_file(file_url: str, local_file_path: path.Path) -> None: \n",
    "    \n",
    "    response = requests.get(file_url)\n",
    "    if response: \n",
    "        local_file_path.write_bytes(response.content)\n",
    "        print(f'The File was successfully downloaded and stored at {local_file_path}')\n",
    "    else: \n",
    "        raise requests.exceptions.RequestException(\n",
    "            f'Failed to download the file. Status code: {response.status_code}'\n",
    "        )"
   ]
  },
  {
   "cell_type": "code",
   "execution_count": 40,
   "metadata": {},
   "outputs": [],
   "source": [
    "url = \"https://data.wa.gov/api/views/f6w7-q2d2/rows.csv?accessType=DOWNLOAD\"\n",
    "local_file_path = path.Path(\"electric_cars.csv\")"
   ]
  },
  {
   "cell_type": "code",
   "execution_count": 41,
   "metadata": {},
   "outputs": [
    {
     "name": "stdout",
     "output_type": "stream",
     "text": [
      "The File was successfully downloaded and stored at electric_cars.csv\n"
     ]
    }
   ],
   "source": [
    "download_file(file_url=url, local_file_path=local_file_path)"
   ]
  },
  {
   "cell_type": "code",
   "execution_count": 42,
   "metadata": {},
   "outputs": [
    {
     "data": {
      "text/html": [
       "<h4>NAIVE QUERY PLAN</h4><p>run <b>LazyFrame.show_graph()</b> to see the optimized version</p><?xml version=\"1.0\" encoding=\"UTF-8\" standalone=\"no\"?>\n",
       "<!DOCTYPE svg PUBLIC \"-//W3C//DTD SVG 1.1//EN\"\n",
       " \"http://www.w3.org/Graphics/SVG/1.1/DTD/svg11.dtd\">\n",
       "<!-- Generated by graphviz version 2.43.0 (0)\n",
       " -->\n",
       "<!-- Title: polars_query Pages: 1 -->\n",
       "<svg width=\"230pt\" height=\"46pt\"\n",
       " viewBox=\"0.00 0.00 230.00 46.00\" xmlns=\"http://www.w3.org/2000/svg\" xmlns:xlink=\"http://www.w3.org/1999/xlink\">\n",
       "<g id=\"graph0\" class=\"graph\" transform=\"scale(1 1) rotate(0) translate(4 42)\">\n",
       "<title>polars_query</title>\n",
       "<polygon fill=\"white\" stroke=\"transparent\" points=\"-4,4 -4,-42 226,-42 226,4 -4,4\"/>\n",
       "<!-- p1 -->\n",
       "<g id=\"node1\" class=\"node\">\n",
       "<title>p1</title>\n",
       "<polygon fill=\"none\" stroke=\"black\" points=\"222,-38 0,-38 0,0 222,0 222,-38\"/>\n",
       "<text text-anchor=\"middle\" x=\"111\" y=\"-22.8\" font-family=\"Times,serif\" font-size=\"14.00\">Csv SCAN [electric_cars.csv]</text>\n",
       "<text text-anchor=\"middle\" x=\"111\" y=\"-7.8\" font-family=\"Times,serif\" font-size=\"14.00\">π */17;</text>\n",
       "</g>\n",
       "</g>\n",
       "</svg>\n"
      ],
      "text/plain": [
       "<LazyFrame at 0x7EFF895B42E0>"
      ]
     },
     "execution_count": 42,
     "metadata": {},
     "output_type": "execute_result"
    }
   ],
   "source": [
    "lazy_car_data = pl.scan_csv(\"electric_cars.csv\")\n",
    "lazy_car_data"
   ]
  },
  {
   "cell_type": "code",
   "execution_count": 43,
   "metadata": {},
   "outputs": [
    {
     "name": "stderr",
     "output_type": "stream",
     "text": [
      "/tmp/ipykernel_7499/755857849.py:1: PerformanceWarning: Resolving the schema of a LazyFrame is a potentially expensive operation. Use `LazyFrame.collect_schema()` to get the schema without this warning.\n",
      "  lazy_car_data.schema\n"
     ]
    },
    {
     "data": {
      "text/plain": [
       "Schema([('VIN (1-10)', String),\n",
       "        ('County', String),\n",
       "        ('City', String),\n",
       "        ('State', String),\n",
       "        ('Postal Code', Int64),\n",
       "        ('Model Year', Int64),\n",
       "        ('Make', String),\n",
       "        ('Model', String),\n",
       "        ('Electric Vehicle Type', String),\n",
       "        ('Clean Alternative Fuel Vehicle (CAFV) Eligibility', String),\n",
       "        ('Electric Range', Int64),\n",
       "        ('Base MSRP', Int64),\n",
       "        ('Legislative District', Int64),\n",
       "        ('DOL Vehicle ID', Int64),\n",
       "        ('Vehicle Location', String),\n",
       "        ('Electric Utility', String),\n",
       "        ('2020 Census Tract', Int64)])"
      ]
     },
     "execution_count": 43,
     "metadata": {},
     "output_type": "execute_result"
    }
   ],
   "source": [
    "\n",
    "lazy_car_data.schema"
   ]
  },
  {
   "cell_type": "code",
   "execution_count": 45,
   "metadata": {},
   "outputs": [],
   "source": [
    "lazy_car_query = (\n",
    "    lazy_car_data\n",
    "    .filter(pl.col(\"Model Year\") >= 2018)\n",
    "    .filter(pl.col(\"Electric Vehicle Type\") == \"Battery Electric Vehicle (BEV)\")\n",
    "    .group_by(['State', 'Make'])\n",
    "    .agg(\n",
    "        pl.mean(\"Electric Range\").alias(\"Average Electric Range\"), \n",
    "        pl.min(\"Model Year\").alias(\"Oldest Year\"), \n",
    "        pl.len().alias(\"Number of Cars\")\n",
    "    )\n",
    "    .filter(pl.col(\"Average Electric Range\") > 0)\n",
    "    .filter(pl.col(\"Number of Cars\") > 5)\n",
    "    .sort(pl.col(\"Number of Cars\"), descending=True)\n",
    ")"
   ]
  },
  {
   "cell_type": "code",
   "execution_count": 46,
   "metadata": {},
   "outputs": [
    {
     "data": {
      "text/html": [
       "<div><style>\n",
       ".dataframe > thead > tr,\n",
       ".dataframe > tbody > tr {\n",
       "  text-align: right;\n",
       "  white-space: pre-wrap;\n",
       "}\n",
       "</style>\n",
       "<small>shape: (22, 5)</small><table border=\"1\" class=\"dataframe\"><thead><tr><th>State</th><th>Make</th><th>Average Electric Range</th><th>Oldest Year</th><th>Number of Cars</th></tr><tr><td>str</td><td>str</td><td>f64</td><td>i64</td><td>u32</td></tr></thead><tbody><tr><td>&quot;WA&quot;</td><td>&quot;TESLA&quot;</td><td>56.715893</td><td>2018</td><td>85408</td></tr><tr><td>&quot;WA&quot;</td><td>&quot;CHEVROLET&quot;</td><td>88.73235</td><td>2018</td><td>8881</td></tr><tr><td>&quot;WA&quot;</td><td>&quot;NISSAN&quot;</td><td>67.008487</td><td>2018</td><td>7423</td></tr><tr><td>&quot;WA&quot;</td><td>&quot;FORD&quot;</td><td>0.083241</td><td>2018</td><td>7208</td></tr><tr><td>&quot;WA&quot;</td><td>&quot;KIA&quot;</td><td>35.681039</td><td>2018</td><td>6239</td></tr><tr><td>&hellip;</td><td>&hellip;</td><td>&hellip;</td><td>&hellip;</td><td>&hellip;</td></tr><tr><td>&quot;MD&quot;</td><td>&quot;TESLA&quot;</td><td>33.733333</td><td>2018</td><td>15</td></tr><tr><td>&quot;TX&quot;</td><td>&quot;TESLA&quot;</td><td>105.785714</td><td>2018</td><td>14</td></tr><tr><td>&quot;NC&quot;</td><td>&quot;TESLA&quot;</td><td>16.538462</td><td>2018</td><td>13</td></tr><tr><td>&quot;FL&quot;</td><td>&quot;TESLA&quot;</td><td>63.875</td><td>2019</td><td>8</td></tr><tr><td>&quot;CO&quot;</td><td>&quot;TESLA&quot;</td><td>35.833333</td><td>2018</td><td>6</td></tr></tbody></table></div>"
      ],
      "text/plain": [
       "shape: (22, 5)\n",
       "┌───────┬───────────┬────────────────────────┬─────────────┬────────────────┐\n",
       "│ State ┆ Make      ┆ Average Electric Range ┆ Oldest Year ┆ Number of Cars │\n",
       "│ ---   ┆ ---       ┆ ---                    ┆ ---         ┆ ---            │\n",
       "│ str   ┆ str       ┆ f64                    ┆ i64         ┆ u32            │\n",
       "╞═══════╪═══════════╪════════════════════════╪═════════════╪════════════════╡\n",
       "│ WA    ┆ TESLA     ┆ 56.715893              ┆ 2018        ┆ 85408          │\n",
       "│ WA    ┆ CHEVROLET ┆ 88.73235               ┆ 2018        ┆ 8881           │\n",
       "│ WA    ┆ NISSAN    ┆ 67.008487              ┆ 2018        ┆ 7423           │\n",
       "│ WA    ┆ FORD      ┆ 0.083241               ┆ 2018        ┆ 7208           │\n",
       "│ WA    ┆ KIA       ┆ 35.681039              ┆ 2018        ┆ 6239           │\n",
       "│ …     ┆ …         ┆ …                      ┆ …           ┆ …              │\n",
       "│ MD    ┆ TESLA     ┆ 33.733333              ┆ 2018        ┆ 15             │\n",
       "│ TX    ┆ TESLA     ┆ 105.785714             ┆ 2018        ┆ 14             │\n",
       "│ NC    ┆ TESLA     ┆ 16.538462              ┆ 2018        ┆ 13             │\n",
       "│ FL    ┆ TESLA     ┆ 63.875                 ┆ 2019        ┆ 8              │\n",
       "│ CO    ┆ TESLA     ┆ 35.833333              ┆ 2018        ┆ 6              │\n",
       "└───────┴───────────┴────────────────────────┴─────────────┴────────────────┘"
      ]
     },
     "execution_count": 46,
     "metadata": {},
     "output_type": "execute_result"
    }
   ],
   "source": [
    "lazy_car_query.collect() "
   ]
  },
  {
   "cell_type": "code",
   "execution_count": null,
   "metadata": {},
   "outputs": [],
   "source": []
  }
 ],
 "metadata": {
  "kernelspec": {
   "display_name": "Python 3",
   "language": "python",
   "name": "python3"
  },
  "language_info": {
   "codemirror_mode": {
    "name": "ipython",
    "version": 3
   },
   "file_extension": ".py",
   "mimetype": "text/x-python",
   "name": "python",
   "nbconvert_exporter": "python",
   "pygments_lexer": "ipython3",
   "version": "3.10.12"
  }
 },
 "nbformat": 4,
 "nbformat_minor": 2
}
